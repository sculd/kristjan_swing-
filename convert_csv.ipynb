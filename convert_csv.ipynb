{
 "cells": [
  {
   "cell_type": "code",
   "execution_count": 1,
   "id": "96d88b05-c80e-4a4e-a456-aa5216752ad4",
   "metadata": {
    "execution": {
     "iopub.execute_input": "2023-12-27T21:16:02.961256Z",
     "iopub.status.busy": "2023-12-27T21:16:02.960710Z",
     "iopub.status.idle": "2023-12-27T21:16:03.373770Z",
     "shell.execute_reply": "2023-12-27T21:16:03.373333Z",
     "shell.execute_reply.started": "2023-12-27T21:16:02.961228Z"
    }
   },
   "outputs": [],
   "source": [
    "import pandas as pd"
   ]
  },
  {
   "cell_type": "code",
   "execution_count": 2,
   "id": "1c087391-9238-4837-9e55-b88fb49dfd8a",
   "metadata": {
    "execution": {
     "iopub.execute_input": "2023-12-27T21:17:39.238914Z",
     "iopub.status.busy": "2023-12-27T21:17:39.238201Z",
     "iopub.status.idle": "2023-12-27T21:17:39.243085Z",
     "shell.execute_reply": "2023-12-27T21:17:39.242148Z",
     "shell.execute_reply.started": "2023-12-27T21:17:39.238846Z"
    }
   },
   "outputs": [
    {
     "name": "stdout",
     "output_type": "stream",
     "text": [
      "converting data/okx/csv_okx_20231220_1225.csv to data/okx/csv_okx_20231220_1225.parquet\n"
     ]
    }
   ],
   "source": [
    "filename_csv = 'data/okx/csv_okx_20231220_1225.csv'\n",
    "filename_parquet = filename_csv.split('.')[0] + '.parquet'\n",
    "print(f'converting {filename_csv} to {filename_parquet}')"
   ]
  },
  {
   "cell_type": "code",
   "execution_count": null,
   "id": "1a8a9407-8ad6-4d31-8e9c-7ca92be29cca",
   "metadata": {},
   "outputs": [],
   "source": [
    "dfc = pd.read_csv(filename_csv)\n",
    "dfc['timestamp'] = pd.to_datetime(dfc['timestamp'], unit='s')\n",
    "dfc = dfc.rename(columns={'symbol': 'asset', 'timestamp': 'date'})\n",
    "dfc.to_parquet(filename_parquet)"
   ]
  }
 ],
 "metadata": {
  "kernelspec": {
   "display_name": "Python 3 (ipykernel)",
   "language": "python",
   "name": "python3"
  },
  "language_info": {
   "codemirror_mode": {
    "name": "ipython",
    "version": 3
   },
   "file_extension": ".py",
   "mimetype": "text/x-python",
   "name": "python",
   "nbconvert_exporter": "python",
   "pygments_lexer": "ipython3",
   "version": "3.10.12"
  }
 },
 "nbformat": 4,
 "nbformat_minor": 5
}
