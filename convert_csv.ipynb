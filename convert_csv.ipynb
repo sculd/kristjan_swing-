{
 "cells": [
  {
   "cell_type": "code",
   "execution_count": 3,
   "id": "96d88b05-c80e-4a4e-a456-aa5216752ad4",
   "metadata": {
    "execution": {
     "iopub.execute_input": "2023-12-28T19:43:01.370055Z",
     "iopub.status.busy": "2023-12-28T19:43:01.368369Z",
     "iopub.status.idle": "2023-12-28T19:43:01.388938Z",
     "shell.execute_reply": "2023-12-28T19:43:01.382963Z",
     "shell.execute_reply.started": "2023-12-28T19:43:01.369944Z"
    }
   },
   "outputs": [],
   "source": [
    "import pandas as pd"
   ]
  },
  {
   "cell_type": "code",
   "execution_count": 13,
   "id": "1c087391-9238-4837-9e55-b88fb49dfd8a",
   "metadata": {
    "execution": {
     "iopub.execute_input": "2023-12-28T22:47:43.646842Z",
     "iopub.status.busy": "2023-12-28T22:47:43.646234Z",
     "iopub.status.idle": "2023-12-28T22:47:43.658421Z",
     "shell.execute_reply": "2023-12-28T22:47:43.657802Z",
     "shell.execute_reply.started": "2023-12-28T22:47:43.646811Z"
    }
   },
   "outputs": [
    {
     "name": "stdout",
     "output_type": "stream",
     "text": [
      "converting data/okx/csv_okx_20231201_1225.csv to data/okx/df_okx_20231201_1225.parquet\n"
     ]
    }
   ],
   "source": [
    "filename_csv = 'data/okx/csv_okx_20231201_1225.csv'\n",
    "filename_parquet = filename_csv.replace('csv', 'df').split('.')[0] + '.parquet'\n",
    "print(f'converting {filename_csv} to {filename_parquet}')"
   ]
  },
  {
   "cell_type": "code",
   "execution_count": 14,
   "id": "1a8a9407-8ad6-4d31-8e9c-7ca92be29cca",
   "metadata": {
    "execution": {
     "iopub.execute_input": "2023-12-28T22:47:45.227423Z",
     "iopub.status.busy": "2023-12-28T22:47:45.227065Z",
     "iopub.status.idle": "2023-12-28T22:47:52.367052Z",
     "shell.execute_reply": "2023-12-28T22:47:52.364026Z",
     "shell.execute_reply.started": "2023-12-28T22:47:45.227401Z"
    }
   },
   "outputs": [],
   "source": [
    "dfc = pd.read_csv(filename_csv)\n",
    "dfc['timestamp'] = pd.to_datetime(dfc['timestamp'], unit='s')\n",
    "dfc = dfc.rename(columns={'symbol': 'asset', 'timestamp': 'date'})\n",
    "dfc.to_parquet(filename_parquet)"
   ]
  },
  {
   "cell_type": "code",
   "execution_count": 16,
   "id": "70213fa0-1d60-4493-8bff-38f3c212fa91",
   "metadata": {
    "execution": {
     "iopub.execute_input": "2023-12-28T22:48:01.719749Z",
     "iopub.status.busy": "2023-12-28T22:48:01.719220Z",
     "iopub.status.idle": "2023-12-28T22:48:02.363253Z",
     "shell.execute_reply": "2023-12-28T22:48:02.362347Z",
     "shell.execute_reply.started": "2023-12-28T22:48:01.719714Z"
    }
   },
   "outputs": [],
   "source": [
    "dfc = pd.read_parquet('data/okx/df_okx_20231201_1225.parquet')"
   ]
  },
  {
   "cell_type": "code",
   "execution_count": 17,
   "id": "9cd545bf-22ab-46b4-a5ee-88401826933e",
   "metadata": {
    "execution": {
     "iopub.execute_input": "2023-12-28T22:48:39.661589Z",
     "iopub.status.busy": "2023-12-28T22:48:39.661226Z",
     "iopub.status.idle": "2023-12-28T22:48:39.936201Z",
     "shell.execute_reply": "2023-12-28T22:48:39.935378Z",
     "shell.execute_reply.started": "2023-12-28T22:48:39.661566Z"
    }
   },
   "outputs": [],
   "source": [
    "dfc[(dfc.date >= \"2023-12-23 00:00:00\") & (dfc.date <= \"2023-12-23 23:59:00\")].to_parquet('data/okx/df_okx_20231223_1223.parquet')"
   ]
  },
  {
   "cell_type": "code",
   "execution_count": null,
   "id": "b76eca83-b8dc-4201-99e4-681a6676916d",
   "metadata": {},
   "outputs": [],
   "source": []
  }
 ],
 "metadata": {
  "kernelspec": {
   "display_name": "Python 3 (ipykernel)",
   "language": "python",
   "name": "python3"
  },
  "language_info": {
   "codemirror_mode": {
    "name": "ipython",
    "version": 3
   },
   "file_extension": ".py",
   "mimetype": "text/x-python",
   "name": "python",
   "nbconvert_exporter": "python",
   "pygments_lexer": "ipython3",
   "version": "3.10.12"
  }
 },
 "nbformat": 4,
 "nbformat_minor": 5
}
