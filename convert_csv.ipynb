{
 "cells": [
  {
   "cell_type": "code",
   "execution_count": 3,
   "id": "96d88b05-c80e-4a4e-a456-aa5216752ad4",
   "metadata": {
    "execution": {
     "iopub.execute_input": "2023-12-29T01:25:09.230957Z",
     "iopub.status.busy": "2023-12-29T01:25:09.226893Z",
     "iopub.status.idle": "2023-12-29T01:25:10.518887Z",
     "shell.execute_reply": "2023-12-29T01:25:10.516421Z",
     "shell.execute_reply.started": "2023-12-29T01:25:09.230734Z"
    }
   },
   "outputs": [],
   "source": [
    "import pandas as pd"
   ]
  },
  {
   "cell_type": "code",
   "execution_count": 4,
   "id": "1c087391-9238-4837-9e55-b88fb49dfd8a",
   "metadata": {
    "execution": {
     "iopub.execute_input": "2023-12-29T01:25:10.526395Z",
     "iopub.status.busy": "2023-12-29T01:25:10.524397Z",
     "iopub.status.idle": "2023-12-29T01:25:10.545738Z",
     "shell.execute_reply": "2023-12-29T01:25:10.543120Z",
     "shell.execute_reply.started": "2023-12-29T01:25:10.526267Z"
    }
   },
   "outputs": [
    {
     "name": "stdout",
     "output_type": "stream",
     "text": [
      "converting data/okx/csv_okx_20231201_1227.csv to data/okx/df_okx_20231201_1227.parquet\n"
     ]
    }
   ],
   "source": [
    "filename_csv = 'data/okx/csv_okx_20231201_1227.csv'\n",
    "filename_parquet = filename_csv.replace('csv', 'df').split('.')[0] + '.parquet'\n",
    "print(f'converting {filename_csv} to {filename_parquet}')"
   ]
  },
  {
   "cell_type": "code",
   "execution_count": 6,
   "id": "1a8a9407-8ad6-4d31-8e9c-7ca92be29cca",
   "metadata": {
    "execution": {
     "iopub.execute_input": "2023-12-29T01:25:38.174348Z",
     "iopub.status.busy": "2023-12-29T01:25:38.173689Z",
     "iopub.status.idle": "2023-12-29T01:25:50.749063Z",
     "shell.execute_reply": "2023-12-29T01:25:50.745787Z",
     "shell.execute_reply.started": "2023-12-29T01:25:38.174311Z"
    }
   },
   "outputs": [],
   "source": [
    "dfc = pd.read_csv(filename_csv)\n",
    "dfc['timestamp'] = pd.to_datetime(dfc['timestamp'], unit='s')\n",
    "dfc = dfc.rename(columns={'symbol': 'asset', 'timestamp': 'date'})\n",
    "dfc.to_parquet(filename_parquet)"
   ]
  },
  {
   "cell_type": "code",
   "execution_count": 16,
   "id": "70213fa0-1d60-4493-8bff-38f3c212fa91",
   "metadata": {
    "execution": {
     "iopub.execute_input": "2023-12-28T22:48:01.719749Z",
     "iopub.status.busy": "2023-12-28T22:48:01.719220Z",
     "iopub.status.idle": "2023-12-28T22:48:02.363253Z",
     "shell.execute_reply": "2023-12-28T22:48:02.362347Z",
     "shell.execute_reply.started": "2023-12-28T22:48:01.719714Z"
    }
   },
   "outputs": [],
   "source": [
    "dfc = pd.read_parquet('data/okx/df_okx_20231201_1227.parquet')"
   ]
  },
  {
   "cell_type": "code",
   "execution_count": 7,
   "id": "9cd545bf-22ab-46b4-a5ee-88401826933e",
   "metadata": {
    "execution": {
     "iopub.execute_input": "2023-12-29T01:26:57.021369Z",
     "iopub.status.busy": "2023-12-29T01:26:57.020307Z",
     "iopub.status.idle": "2023-12-29T01:27:00.115642Z",
     "shell.execute_reply": "2023-12-29T01:27:00.113397Z",
     "shell.execute_reply.started": "2023-12-29T01:26:57.021314Z"
    }
   },
   "outputs": [],
   "source": [
    "dfc[(dfc.date >= \"2023-12-23 00:00:00\") & (dfc.date <= \"2023-12-23 23:59:00\")].to_parquet('data/okx/df_okx_20231223_1223.parquet')\n",
    "dfc[(dfc.date >= \"2023-12-20 00:00:00\") & (dfc.date <= \"2023-12-25 23:59:00\")].to_parquet('data/okx/df_okx_20231220_1225.parquet')\n",
    "dfc[(dfc.date >= \"2023-12-20 00:00:00\") & (dfc.date <= \"2023-12-21 23:59:00\")].to_parquet('data/okx/df_okx_20231220_1221.parquet')"
   ]
  },
  {
   "cell_type": "code",
   "execution_count": 9,
   "id": "b76eca83-b8dc-4201-99e4-681a6676916d",
   "metadata": {
    "execution": {
     "iopub.execute_input": "2023-12-29T01:49:25.272558Z",
     "iopub.status.busy": "2023-12-29T01:49:25.270756Z",
     "iopub.status.idle": "2023-12-29T01:49:28.223353Z",
     "shell.execute_reply": "2023-12-29T01:49:28.220828Z",
     "shell.execute_reply.started": "2023-12-29T01:49:25.272450Z"
    }
   },
   "outputs": [],
   "source": [
    "dfc[(dfc.date >= \"2023-12-01 00:00:00\") & (dfc.date <= \"2023-12-05 23:59:00\")].to_parquet('data/okx/df_okx_20231201_1205.parquet')\n",
    "dfc[(dfc.date >= \"2023-12-05 00:00:00\") & (dfc.date <= \"2023-12-10 23:59:00\")].to_parquet('data/okx/df_okx_20231205_1210.parquet')"
   ]
  },
  {
   "cell_type": "code",
   "execution_count": null,
   "id": "a412e0d0-835e-43a7-997b-4f26728fd9e3",
   "metadata": {},
   "outputs": [],
   "source": []
  }
 ],
 "metadata": {
  "kernelspec": {
   "display_name": "Python 3 (ipykernel)",
   "language": "python",
   "name": "python3"
  },
  "language_info": {
   "codemirror_mode": {
    "name": "ipython",
    "version": 3
   },
   "file_extension": ".py",
   "mimetype": "text/x-python",
   "name": "python",
   "nbconvert_exporter": "python",
   "pygments_lexer": "ipython3",
   "version": "3.10.12"
  }
 },
 "nbformat": 4,
 "nbformat_minor": 5
}
