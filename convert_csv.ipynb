{
 "cells": [
  {
   "cell_type": "code",
   "execution_count": 3,
   "id": "96d88b05-c80e-4a4e-a456-aa5216752ad4",
   "metadata": {
    "execution": {
     "iopub.execute_input": "2023-12-29T01:25:09.230957Z",
     "iopub.status.busy": "2023-12-29T01:25:09.226893Z",
     "iopub.status.idle": "2023-12-29T01:25:10.518887Z",
     "shell.execute_reply": "2023-12-29T01:25:10.516421Z",
     "shell.execute_reply.started": "2023-12-29T01:25:09.230734Z"
    }
   },
   "outputs": [],
   "source": [
    "import pandas as pd"
   ]
  },
  {
   "cell_type": "code",
   "execution_count": 4,
   "id": "1c087391-9238-4837-9e55-b88fb49dfd8a",
   "metadata": {
    "execution": {
     "iopub.execute_input": "2023-12-29T01:25:10.526395Z",
     "iopub.status.busy": "2023-12-29T01:25:10.524397Z",
     "iopub.status.idle": "2023-12-29T01:25:10.545738Z",
     "shell.execute_reply": "2023-12-29T01:25:10.543120Z",
     "shell.execute_reply.started": "2023-12-29T01:25:10.526267Z"
    }
   },
   "outputs": [
    {
     "name": "stdout",
     "output_type": "stream",
     "text": [
      "converting data/okx/csv_okx_20231201_1227.csv to data/okx/df_okx_20231201_1227.parquet\n"
     ]
    }
   ],
   "source": [
    "filename_csv = 'data/okx/csv_okx_20231201_1227.csv'\n",
    "filename_parquet = filename_csv.replace('csv', 'df').split('.')[0] + '.parquet'\n",
    "print(f'converting {filename_csv} to {filename_parquet}')"
   ]
  },
  {
   "cell_type": "code",
   "execution_count": 6,
   "id": "1a8a9407-8ad6-4d31-8e9c-7ca92be29cca",
   "metadata": {
    "execution": {
     "iopub.execute_input": "2023-12-29T01:25:38.174348Z",
     "iopub.status.busy": "2023-12-29T01:25:38.173689Z",
     "iopub.status.idle": "2023-12-29T01:25:50.749063Z",
     "shell.execute_reply": "2023-12-29T01:25:50.745787Z",
     "shell.execute_reply.started": "2023-12-29T01:25:38.174311Z"
    }
   },
   "outputs": [],
   "source": [
    "dfc = pd.read_csv(filename_csv)\n",
    "dfc['timestamp'] = pd.to_datetime(dfc['timestamp'], unit='s')\n",
    "df = dfc.rename(columns={'symbol': 'asset', 'timestamp': 'date'})\n",
    "df.to_parquet(filename_parquet)"
   ]
  },
  {
   "cell_type": "code",
   "execution_count": 16,
   "id": "70213fa0-1d60-4493-8bff-38f3c212fa91",
   "metadata": {
    "execution": {
     "iopub.execute_input": "2023-12-28T22:48:01.719749Z",
     "iopub.status.busy": "2023-12-28T22:48:01.719220Z",
     "iopub.status.idle": "2023-12-28T22:48:02.363253Z",
     "shell.execute_reply": "2023-12-28T22:48:02.362347Z",
     "shell.execute_reply.started": "2023-12-28T22:48:01.719714Z"
    }
   },
   "outputs": [],
   "source": [
    "df = pd.read_parquet('data/okx/df_okx_20231201_1227.parquet')"
   ]
  },
  {
   "cell_type": "code",
   "execution_count": 7,
   "id": "9cd545bf-22ab-46b4-a5ee-88401826933e",
   "metadata": {
    "execution": {
     "iopub.execute_input": "2023-12-29T01:26:57.021369Z",
     "iopub.status.busy": "2023-12-29T01:26:57.020307Z",
     "iopub.status.idle": "2023-12-29T01:27:00.115642Z",
     "shell.execute_reply": "2023-12-29T01:27:00.113397Z",
     "shell.execute_reply.started": "2023-12-29T01:26:57.021314Z"
    }
   },
   "outputs": [],
   "source": [
    "df[(df.date >= \"2023-12-23 00:00:00\") & (df.date <= \"2023-12-23 23:59:00\")].to_parquet('data/okx/df_okx_20231223_1223.parquet')\n",
    "df[(df.date >= \"2023-12-20 00:00:00\") & (df.date <= \"2023-12-25 23:59:00\")].to_parquet('data/okx/df_okx_20231220_1225.parquet')\n",
    "df[(df.date >= \"2023-12-20 00:00:00\") & (df.date <= \"2023-12-21 23:59:00\")].to_parquet('data/okx/df_okx_20231220_1221.parquet')"
   ]
  },
  {
   "cell_type": "code",
   "execution_count": 9,
   "id": "b76eca83-b8dc-4201-99e4-681a6676916d",
   "metadata": {
    "execution": {
     "iopub.execute_input": "2023-12-29T01:49:25.272558Z",
     "iopub.status.busy": "2023-12-29T01:49:25.270756Z",
     "iopub.status.idle": "2023-12-29T01:49:28.223353Z",
     "shell.execute_reply": "2023-12-29T01:49:28.220828Z",
     "shell.execute_reply.started": "2023-12-29T01:49:25.272450Z"
    }
   },
   "outputs": [],
   "source": [
    "df[(df.date >= \"2023-12-01 00:00:00\") & (df.date <= \"2023-12-05 23:59:00\")].to_parquet('data/okx/df_okx_20231201_1205.parquet')\n",
    "df[(df.date >= \"2023-12-05 00:00:00\") & (df.date <= \"2023-12-10 23:59:00\")].to_parquet('data/okx/df_okx_20231205_1210.parquet')"
   ]
  },
  {
   "cell_type": "code",
   "execution_count": null,
   "id": "a412e0d0-835e-43a7-997b-4f26728fd9e3",
   "metadata": {},
   "outputs": [],
   "source": []
  },
  {
   "cell_type": "code",
   "execution_count": 27,
   "id": "aecf010d-4370-4abd-9f3c-c8e03aa9572b",
   "metadata": {
    "execution": {
     "iopub.execute_input": "2024-01-02T23:24:42.342495Z",
     "iopub.status.busy": "2024-01-02T23:24:42.341579Z",
     "iopub.status.idle": "2024-01-02T23:24:42.362880Z",
     "shell.execute_reply": "2024-01-02T23:24:42.361827Z",
     "shell.execute_reply.started": "2024-01-02T23:24:42.342425Z"
    }
   },
   "outputs": [
    {
     "data": {
      "text/html": [
       "<div>\n",
       "<style scoped>\n",
       "    .dataframe tbody tr th:only-of-type {\n",
       "        vertical-align: middle;\n",
       "    }\n",
       "\n",
       "    .dataframe tbody tr th {\n",
       "        vertical-align: top;\n",
       "    }\n",
       "\n",
       "    .dataframe thead th {\n",
       "        text-align: right;\n",
       "    }\n",
       "</style>\n",
       "<table border=\"1\" class=\"dataframe\">\n",
       "  <thead>\n",
       "    <tr style=\"text-align: right;\">\n",
       "      <th></th>\n",
       "      <th>timestamp</th>\n",
       "      <th>symbol</th>\n",
       "      <th>open</th>\n",
       "      <th>high</th>\n",
       "      <th>low</th>\n",
       "      <th>close</th>\n",
       "      <th>volume</th>\n",
       "    </tr>\n",
       "  </thead>\n",
       "  <tbody>\n",
       "    <tr>\n",
       "      <th>0</th>\n",
       "      <td>1701406800</td>\n",
       "      <td>EGLD-USDT-SWAP</td>\n",
       "      <td>44.109231</td>\n",
       "      <td>44.1400</td>\n",
       "      <td>44.0900</td>\n",
       "      <td>44.109231</td>\n",
       "      <td>1.607600e+03</td>\n",
       "    </tr>\n",
       "    <tr>\n",
       "      <th>1</th>\n",
       "      <td>1701406800</td>\n",
       "      <td>STX-USDT-SWAP</td>\n",
       "      <td>0.702800</td>\n",
       "      <td>0.7032</td>\n",
       "      <td>0.7028</td>\n",
       "      <td>0.702973</td>\n",
       "      <td>4.706000e+04</td>\n",
       "    </tr>\n",
       "    <tr>\n",
       "      <th>2</th>\n",
       "      <td>1701406800</td>\n",
       "      <td>BTC-USDC-SWAP</td>\n",
       "      <td>38201.600000</td>\n",
       "      <td>38217.1000</td>\n",
       "      <td>38198.5000</td>\n",
       "      <td>38207.716667</td>\n",
       "      <td>3.304900e+00</td>\n",
       "    </tr>\n",
       "    <tr>\n",
       "      <th>3</th>\n",
       "      <td>1701406800</td>\n",
       "      <td>NEO-USDT-SWAP</td>\n",
       "      <td>11.091000</td>\n",
       "      <td>11.0970</td>\n",
       "      <td>11.0880</td>\n",
       "      <td>11.091909</td>\n",
       "      <td>5.640000e+03</td>\n",
       "    </tr>\n",
       "    <tr>\n",
       "      <th>4</th>\n",
       "      <td>1701406800</td>\n",
       "      <td>WAVES-USDT-SWAP</td>\n",
       "      <td>2.095000</td>\n",
       "      <td>2.0950</td>\n",
       "      <td>2.0940</td>\n",
       "      <td>2.094714</td>\n",
       "      <td>6.370000e+03</td>\n",
       "    </tr>\n",
       "    <tr>\n",
       "      <th>...</th>\n",
       "      <td>...</td>\n",
       "      <td>...</td>\n",
       "      <td>...</td>\n",
       "      <td>...</td>\n",
       "      <td>...</td>\n",
       "      <td>...</td>\n",
       "      <td>...</td>\n",
       "    </tr>\n",
       "    <tr>\n",
       "      <th>6840660</th>\n",
       "      <td>1703653080</td>\n",
       "      <td>CELO-USDT-SWAP</td>\n",
       "      <td>0.722000</td>\n",
       "      <td>0.7220</td>\n",
       "      <td>0.7210</td>\n",
       "      <td>0.721833</td>\n",
       "      <td>9.323900e+04</td>\n",
       "    </tr>\n",
       "    <tr>\n",
       "      <th>6840661</th>\n",
       "      <td>1703653080</td>\n",
       "      <td>WLD-USDT-SWAP</td>\n",
       "      <td>3.553000</td>\n",
       "      <td>3.5580</td>\n",
       "      <td>3.5510</td>\n",
       "      <td>3.553810</td>\n",
       "      <td>4.215500e+04</td>\n",
       "    </tr>\n",
       "    <tr>\n",
       "      <th>6840662</th>\n",
       "      <td>1703653080</td>\n",
       "      <td>KSM-USD-SWAP</td>\n",
       "      <td>54.150000</td>\n",
       "      <td>54.1500</td>\n",
       "      <td>54.1500</td>\n",
       "      <td>54.150000</td>\n",
       "      <td>0.000000e+00</td>\n",
       "    </tr>\n",
       "    <tr>\n",
       "      <th>6840663</th>\n",
       "      <td>1703653080</td>\n",
       "      <td>CORE-USDT-SWAP</td>\n",
       "      <td>0.535000</td>\n",
       "      <td>0.5355</td>\n",
       "      <td>0.5347</td>\n",
       "      <td>0.535019</td>\n",
       "      <td>1.332450e+05</td>\n",
       "    </tr>\n",
       "    <tr>\n",
       "      <th>6840664</th>\n",
       "      <td>1703653080</td>\n",
       "      <td>MINA-USDT-SWAP</td>\n",
       "      <td>1.344200</td>\n",
       "      <td>1.3537</td>\n",
       "      <td>1.3367</td>\n",
       "      <td>1.343793</td>\n",
       "      <td>1.740708e+07</td>\n",
       "    </tr>\n",
       "  </tbody>\n",
       "</table>\n",
       "<p>6840665 rows × 7 columns</p>\n",
       "</div>"
      ],
      "text/plain": [
       "          timestamp           symbol          open        high         low  \\\n",
       "0        1701406800   EGLD-USDT-SWAP     44.109231     44.1400     44.0900   \n",
       "1        1701406800    STX-USDT-SWAP      0.702800      0.7032      0.7028   \n",
       "2        1701406800    BTC-USDC-SWAP  38201.600000  38217.1000  38198.5000   \n",
       "3        1701406800    NEO-USDT-SWAP     11.091000     11.0970     11.0880   \n",
       "4        1701406800  WAVES-USDT-SWAP      2.095000      2.0950      2.0940   \n",
       "...             ...              ...           ...         ...         ...   \n",
       "6840660  1703653080   CELO-USDT-SWAP      0.722000      0.7220      0.7210   \n",
       "6840661  1703653080    WLD-USDT-SWAP      3.553000      3.5580      3.5510   \n",
       "6840662  1703653080     KSM-USD-SWAP     54.150000     54.1500     54.1500   \n",
       "6840663  1703653080   CORE-USDT-SWAP      0.535000      0.5355      0.5347   \n",
       "6840664  1703653080   MINA-USDT-SWAP      1.344200      1.3537      1.3367   \n",
       "\n",
       "                close        volume  \n",
       "0           44.109231  1.607600e+03  \n",
       "1            0.702973  4.706000e+04  \n",
       "2        38207.716667  3.304900e+00  \n",
       "3           11.091909  5.640000e+03  \n",
       "4            2.094714  6.370000e+03  \n",
       "...               ...           ...  \n",
       "6840660      0.721833  9.323900e+04  \n",
       "6840661      3.553810  4.215500e+04  \n",
       "6840662     54.150000  0.000000e+00  \n",
       "6840663      0.535019  1.332450e+05  \n",
       "6840664      1.343793  1.740708e+07  \n",
       "\n",
       "[6840665 rows x 7 columns]"
      ]
     },
     "execution_count": 27,
     "metadata": {},
     "output_type": "execute_result"
    }
   ],
   "source": [
    "dfc"
   ]
  },
  {
   "cell_type": "code",
   "execution_count": 33,
   "id": "573a0d18-069d-497e-9b82-da4fdc1d99ff",
   "metadata": {
    "execution": {
     "iopub.execute_input": "2024-01-03T17:35:28.749856Z",
     "iopub.status.busy": "2024-01-03T17:35:28.749614Z",
     "iopub.status.idle": "2024-01-03T17:35:29.040862Z",
     "shell.execute_reply": "2024-01-03T17:35:29.040201Z",
     "shell.execute_reply.started": "2024-01-03T17:35:28.749834Z"
    }
   },
   "outputs": [],
   "source": [
    "dfc[(dfc.symbol == 'ICP-USDT-SWAP') & (dfc.timestamp >= 1703116800) & (dfc.timestamp <= 1703289600)].to_csv('data/okx/csv_okx_ICP_20231221_1223.csv', index=False)"
   ]
  },
  {
   "cell_type": "code",
   "execution_count": 32,
   "id": "09bbea28-cd20-473a-b80e-09b21f4a610f",
   "metadata": {
    "execution": {
     "iopub.execute_input": "2024-01-03T17:35:24.868529Z",
     "iopub.status.busy": "2024-01-03T17:35:24.868204Z",
     "iopub.status.idle": "2024-01-03T17:35:25.291849Z",
     "shell.execute_reply": "2024-01-03T17:35:25.291385Z",
     "shell.execute_reply.started": "2024-01-03T17:35:24.868506Z"
    }
   },
   "outputs": [
    {
     "data": {
      "text/plain": [
       "<Axes: >"
      ]
     },
     "execution_count": 32,
     "metadata": {},
     "output_type": "execute_result"
    },
    {
     "data": {
      "image/png": "[encoded data removed]",
      "text/plain": [
       "<Figure size 640x480 with 1 Axes>"
      ]
     },
     "metadata": {},
     "output_type": "display_data"
    }
   ],
   "source": [
    "dfc[(dfc.symbol == 'ICP-USDT-SWAP') & (dfc.timestamp >= 1703116800) & (dfc.timestamp <= 1703289600)][['high']].plot()"
   ]
  },
  {
   "cell_type": "code",
   "execution_count": null,
   "id": "b5427c40-def9-48fa-a3c0-f08715617f82",
   "metadata": {},
   "outputs": [],
   "source": []
  }
 ],
 "metadata": {
  "kernelspec": {
   "display_name": "Python 3 (ipykernel)",
   "language": "python",
   "name": "python3"
  },
  "language_info": {
   "codemirror_mode": {
    "name": "ipython",
    "version": 3
   },
   "file_extension": ".py",
   "mimetype": "text/x-python",
   "name": "python",
   "nbconvert_exporter": "python",
   "pygments_lexer": "ipython3",
   "version": "3.10.12"
  }
 },
 "nbformat": 4,
 "nbformat_minor": 5
}
