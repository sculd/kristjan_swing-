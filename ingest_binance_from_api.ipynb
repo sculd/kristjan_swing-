{
 "cells": [
  {
   "cell_type": "code",
   "execution_count": 285,
   "id": "fdd952db-3f56-4fb2-9de2-fe07d230cd32",
   "metadata": {
    "execution": {
     "iopub.execute_input": "2023-12-27T22:47:45.272138Z",
     "iopub.status.busy": "2023-12-27T22:47:45.270793Z",
     "iopub.status.idle": "2023-12-27T22:47:45.285817Z",
     "shell.execute_reply": "2023-12-27T22:47:45.283055Z",
     "shell.execute_reply.started": "2023-12-27T22:47:45.272056Z"
    }
   },
   "outputs": [],
   "source": [
    "import pandas as pd\n",
    "#from binance.spot import Spot as Client\n",
    "from binance.client import Client\n",
    "import datetime\n",
    "from dateutil.relativedelta import relativedelta\n",
    "import matplotlib.pyplot as plt\n",
    "import ta"
   ]
  },
  {
   "cell_type": "code",
   "execution_count": null,
   "id": "0332ad09-5ace-4982-96d1-191b8d8cb4bf",
   "metadata": {},
   "outputs": [],
   "source": []
  },
  {
   "cell_type": "markdown",
   "id": "b0c22099-a5e0-4ece-b6b0-8393f85c4caa",
   "metadata": {},
   "source": [
    "### load the data from api"
   ]
  },
  {
   "cell_type": "code",
   "execution_count": 3,
   "id": "4a6b043f-1a6e-4c74-873d-a87d99e21568",
   "metadata": {
    "execution": {
     "iopub.execute_input": "2023-12-26T21:36:43.280842Z",
     "iopub.status.busy": "2023-12-26T21:36:43.279080Z",
     "iopub.status.idle": "2023-12-26T21:36:43.294347Z",
     "shell.execute_reply": "2023-12-26T21:36:43.293466Z",
     "shell.execute_reply.started": "2023-12-26T21:36:43.280758Z"
    }
   },
   "outputs": [],
   "source": [
    "def get_spot_data(client, timeframe, days_range, selected_assets):\n",
    "\tspot_data = {}\n",
    "\n",
    "\t# Get the current date\n",
    "\ttoday_date = datetime.date.today()\n",
    "\t# Calculate the trade date for the specified number of days in the past\n",
    "\n",
    "\ttrade_date_data = today_date - relativedelta(days=days_range)\n",
    "\n",
    "\t# Store the arguments for the get_historical_klines() method in variables\n",
    "\ttimeframe_for_data = timeframe\n",
    "\tstart_date_for_data = str(trade_date_data)\n",
    "\n",
    "\t# Loop through the selected symbols and get the daily data for each one\n",
    "\tfor symbol in selected_assets:\n",
    "\t\tprint(f\"Extracting data for: {symbol}\")\n",
    "\t\t# Initialize an empty list to store the data for the\n",
    "\t\tsymbol\n",
    "\t\tsymbol_data = []\n",
    "\n",
    "\t\t# Get the daily data for the symbol\n",
    "\t\tdata = client.get_historical_klines(symbol, timeframe_for_data, start_date_for_data)\n",
    "\n",
    "\t\t# Loop through the daily data and extract the relevant information\n",
    "\t\tfor daily_data in data:\n",
    "\t\t\t# Extract the timestamp, open price, high price, low price, close price, and volume\n",
    "\t\t\ttimestamp, open_price, high_price, low_price, close_price, volume = daily_data[:6]\n",
    "\n",
    "\t\t\t# Convert the timestamp to a date\n",
    "\t\t\tdate = datetime.datetime.fromtimestamp(int(timestamp) / 1000)\n",
    "\t\t\t# Add the cleaned data to the list\n",
    "\t\t\tsymbol_data.append({\n",
    "\t\t\t\t'date': date,\n",
    "\t\t\t\t'asset': symbol,\n",
    "\t\t\t\t'open': float(open_price),\n",
    "\t\t\t\t'high': float(high_price),\n",
    "\t\t\t\t'low': float(low_price),\n",
    "\t\t\t\t'close': float(close_price),\n",
    "\t\t\t\t'volume': float(volume)\n",
    "\t\t\t})\n",
    "\n",
    "\t\t# Convert the data for the symbol to a dataframe\n",
    "\t\tspot_data[symbol] = pd.DataFrame(symbol_data)\n",
    "\n",
    "\t\tprint(f\"Finished Extracting data for: {symbol}\")\n",
    "\n",
    "\treturn spot_data"
   ]
  },
  {
   "cell_type": "code",
   "execution_count": null,
   "id": "d3689994-a08b-42e1-a081-4c64634c3d2c",
   "metadata": {},
   "outputs": [],
   "source": []
  },
  {
   "cell_type": "code",
   "execution_count": 14,
   "id": "f542e8e5-db21-40df-961b-03803dd76ad4",
   "metadata": {
    "execution": {
     "iopub.execute_input": "2023-12-26T21:41:26.445107Z",
     "iopub.status.busy": "2023-12-26T21:41:26.444404Z",
     "iopub.status.idle": "2023-12-26T21:42:21.297290Z",
     "shell.execute_reply": "2023-12-26T21:42:21.296665Z",
     "shell.execute_reply.started": "2023-12-26T21:41:26.445061Z"
    },
    "scrolled": true
   },
   "outputs": [
    {
     "name": "stdout",
     "output_type": "stream",
     "text": [
      "Extracting data for: BTCUSDT\n",
      "Finished Extracting data for: BTCUSDT\n",
      "Extracting data for: ETHUSDT\n",
      "Finished Extracting data for: ETHUSDT\n",
      "Extracting data for: SOLUSDT\n",
      "Finished Extracting data for: SOLUSDT\n",
      "Extracting data for: BNBUSDT\n",
      "Finished Extracting data for: BNBUSDT\n",
      "Extracting data for: XRPUSDT\n",
      "Finished Extracting data for: XRPUSDT\n",
      "Extracting data for: ADAUSDT\n",
      "Finished Extracting data for: ADAUSDT\n",
      "Extracting data for: AVAXUSDT\n",
      "Finished Extracting data for: AVAXUSDT\n",
      "Extracting data for: DOGEUSDT\n",
      "Finished Extracting data for: DOGEUSDT\n",
      "Extracting data for: DOTUSDT\n",
      "Finished Extracting data for: DOTUSDT\n",
      "Extracting data for: TRXUSDT\n",
      "Finished Extracting data for: TRXUSDT\n",
      "Extracting data for: LINKUSDT\n",
      "Finished Extracting data for: LINKUSDT\n",
      "Extracting data for: MATICUSDT\n",
      "Finished Extracting data for: MATICUSDT\n",
      "Extracting data for: LTCUSDT\n",
      "Finished Extracting data for: LTCUSDT\n",
      "Extracting data for: UNIUSDT\n",
      "Finished Extracting data for: UNIUSDT\n",
      "Extracting data for: BCHUSDT\n",
      "Finished Extracting data for: BCHUSDT\n",
      "Extracting data for: ICPUSDT\n",
      "Finished Extracting data for: ICPUSDT\n",
      "Extracting data for: XLMUSDT\n",
      "Finished Extracting data for: XLMUSDT\n",
      "Extracting data for: NEARUSDT\n",
      "Finished Extracting data for: NEARUSDT\n",
      "Extracting data for: ATOMUSDT\n",
      "Finished Extracting data for: ATOMUSDT\n",
      "Extracting data for: INJUSDT\n",
      "Finished Extracting data for: INJUSDT\n"
     ]
    }
   ],
   "source": [
    "def connect_to_binance(API_KEY, SECRET_API_KEY):\n",
    "\treturn Client(API_KEY, SECRET_API_KEY)\n",
    "\n",
    "######################################################\n",
    "# USER INPUT SECTION\n",
    "######################################################\n",
    "# Binance API Settings\n",
    "# ---------------------\n",
    "# Provide your Binance API key and secret key below.\n",
    "# These keys are necessary to access financial data through the Binance API.\n",
    "API_KEY = ''\n",
    "SECRET_API_KEY = ''\n",
    "\n",
    "# Trading Portfolio and Strategy Settings\n",
    "# ---------------------------------------\n",
    "# Define your initial portfolio value, risk percentage per trade, and\n",
    "# parameters for the trading strategy's consolidation period and minimum\n",
    "# percentage increase for asset selection.\n",
    "# These settings will influence how the trading strategy operates.\n",
    "\n",
    "# Fetching and Analyzing Market Data\n",
    "# ----------------------------------\n",
    "# Fetch market data for a predefined list of assets from Binance and\n",
    "# perform strategy backtesting based on the specified parameters.\n",
    "# This process will gather historical data for each asset and apply the\n",
    "# trading strategy to analyze potential trades.\n",
    "# Connect to Binance using API keys\n",
    "client = connect_to_binance(API_KEY, SECRET_API_KEY)\n",
    "\n",
    "# List of cryptocurrency pairs to analyze\n",
    "selected_assets = [\"BTCUSDT\", \"ETHUSDT\", \"SOLUSDT\", \"BNBUSDT\",\\\n",
    "\t\"XRPUSDT\", \"ADAUSDT\", \"AVAXUSDT\", \"DOGEUSDT\",\\\n",
    "\t\"DOTUSDT\", \"TRXUSDT\", \"LINKUSDT\", \"MATICUSDT\",\\\n",
    "\t\"LTCUSDT\", \"UNIUSDT\", \"BCHUSDT\", \"ICPUSDT\",\\\n",
    "\t\"XLMUSDT\", \"NEARUSDT\", \"ATOMUSDT\",\"INJUSDT\"]\n",
    "\n",
    "# Fetch historical spot data for selected assets\n",
    "# 3000\n",
    "data = get_spot_data(client, \"1d\", 3000, selected_assets)"
   ]
  },
  {
   "cell_type": "code",
   "execution_count": null,
   "id": "f29a9e29-9f64-4215-8404-17907aaf5aa5",
   "metadata": {},
   "outputs": [],
   "source": []
  },
  {
   "cell_type": "code",
   "execution_count": null,
   "id": "f7c5c25a-e5ab-4fa7-a5d5-393862465bb0",
   "metadata": {},
   "outputs": [],
   "source": []
  }
 ],
 "metadata": {
  "kernelspec": {
   "display_name": "Python 3 (ipykernel)",
   "language": "python",
   "name": "python3"
  },
  "language_info": {
   "codemirror_mode": {
    "name": "ipython",
    "version": 3
   },
   "file_extension": ".py",
   "mimetype": "text/x-python",
   "name": "python",
   "nbconvert_exporter": "python",
   "pygments_lexer": "ipython3",
   "version": "3.10.12"
  }
 },
 "nbformat": 4,
 "nbformat_minor": 5
}
